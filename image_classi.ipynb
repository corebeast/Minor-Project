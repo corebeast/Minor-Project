{
  "nbformat": 4,
  "nbformat_minor": 0,
  "metadata": {
    "colab": {
      "name": "image classi.ipynb",
      "provenance": [],
      "authorship_tag": "ABX9TyMMBLo/+2mAjxuIL7iP+w1A",
      "include_colab_link": true
    },
    "kernelspec": {
      "name": "python3",
      "display_name": "Python 3"
    },
    "language_info": {
      "name": "python"
    }
  },
  "cells": [
    {
      "cell_type": "markdown",
      "metadata": {
        "id": "view-in-github",
        "colab_type": "text"
      },
      "source": [
        "<a href=\"https://colab.research.google.com/github/corebeast/Minor-Project/blob/main/image_classi.ipynb\" target=\"_parent\"><img src=\"https://colab.research.google.com/assets/colab-badge.svg\" alt=\"Open In Colab\"/></a>"
      ]
    },
    {
      "cell_type": "code",
      "metadata": {
        "colab": {
          "base_uri": "https://localhost:8080/"
        },
        "id": "21MMxw9e_d1n",
        "outputId": "a5f42c4a-b670-4891-fde8-f629db65b859"
      },
      "source": [
        "!pip install ipython-autotime\n",
        "%load_ext autotime"
      ],
      "execution_count": null,
      "outputs": [
        {
          "output_type": "stream",
          "text": [
            "Collecting ipython-autotime\n",
            "  Downloading https://files.pythonhosted.org/packages/b4/c9/b413a24f759641bc27ef98c144b590023c8038dfb8a3f09e713e9dff12c1/ipython_autotime-0.3.1-py2.py3-none-any.whl\n",
            "Requirement already satisfied: ipython in /usr/local/lib/python3.7/dist-packages (from ipython-autotime) (5.5.0)\n",
            "Requirement already satisfied: pickleshare in /usr/local/lib/python3.7/dist-packages (from ipython->ipython-autotime) (0.7.5)\n",
            "Requirement already satisfied: pygments in /usr/local/lib/python3.7/dist-packages (from ipython->ipython-autotime) (2.6.1)\n",
            "Requirement already satisfied: pexpect; sys_platform != \"win32\" in /usr/local/lib/python3.7/dist-packages (from ipython->ipython-autotime) (4.8.0)\n",
            "Requirement already satisfied: traitlets>=4.2 in /usr/local/lib/python3.7/dist-packages (from ipython->ipython-autotime) (5.0.5)\n",
            "Requirement already satisfied: decorator in /usr/local/lib/python3.7/dist-packages (from ipython->ipython-autotime) (4.4.2)\n",
            "Requirement already satisfied: setuptools>=18.5 in /usr/local/lib/python3.7/dist-packages (from ipython->ipython-autotime) (57.0.0)\n",
            "Requirement already satisfied: prompt-toolkit<2.0.0,>=1.0.4 in /usr/local/lib/python3.7/dist-packages (from ipython->ipython-autotime) (1.0.18)\n",
            "Requirement already satisfied: simplegeneric>0.8 in /usr/local/lib/python3.7/dist-packages (from ipython->ipython-autotime) (0.8.1)\n",
            "Requirement already satisfied: ptyprocess>=0.5 in /usr/local/lib/python3.7/dist-packages (from pexpect; sys_platform != \"win32\"->ipython->ipython-autotime) (0.7.0)\n",
            "Requirement already satisfied: ipython-genutils in /usr/local/lib/python3.7/dist-packages (from traitlets>=4.2->ipython->ipython-autotime) (0.2.0)\n",
            "Requirement already satisfied: wcwidth in /usr/local/lib/python3.7/dist-packages (from prompt-toolkit<2.0.0,>=1.0.4->ipython->ipython-autotime) (0.2.5)\n",
            "Requirement already satisfied: six>=1.9.0 in /usr/local/lib/python3.7/dist-packages (from prompt-toolkit<2.0.0,>=1.0.4->ipython->ipython-autotime) (1.15.0)\n",
            "Installing collected packages: ipython-autotime\n",
            "Successfully installed ipython-autotime-0.3.1\n",
            "time: 2.12 ms (started: 2021-06-19 07:00:09 +00:00)\n"
          ],
          "name": "stdout"
        }
      ]
    },
    {
      "cell_type": "code",
      "metadata": {
        "colab": {
          "base_uri": "https://localhost:8080/"
        },
        "id": "pGsBrVojEecU",
        "outputId": "64c5e329-23ba-4917-f2a9-0582c5ebc94c"
      },
      "source": [
        "\n",
        "!pip install bing-image-downloader"
      ],
      "execution_count": null,
      "outputs": [
        {
          "output_type": "stream",
          "text": [
            "Collecting bing-image-downloader\n",
            "  Downloading https://files.pythonhosted.org/packages/2c/f9/e827c690d0df1ec2f2f27cf0fb3d1f944c5c56253f8d3750ccaff051b3d3/bing_image_downloader-1.1.0-py3-none-any.whl\n",
            "Installing collected packages: bing-image-downloader\n",
            "Successfully installed bing-image-downloader-1.1.0\n",
            "time: 3.04 s (started: 2021-06-19 07:00:46 +00:00)\n"
          ],
          "name": "stdout"
        }
      ]
    },
    {
      "cell_type": "code",
      "metadata": {
        "colab": {
          "base_uri": "https://localhost:8080/"
        },
        "id": "rJLdt1lsEo7z",
        "outputId": "5e321004-6b5c-4489-f202-bda7e63f40f4"
      },
      "source": [
        "!mkdir images"
      ],
      "execution_count": null,
      "outputs": [
        {
          "output_type": "stream",
          "text": [
            "time: 121 ms (started: 2021-06-19 07:02:54 +00:00)\n"
          ],
          "name": "stdout"
        }
      ]
    },
    {
      "cell_type": "code",
      "metadata": {
        "colab": {
          "base_uri": "https://localhost:8080/"
        },
        "id": "AdXm5tvdGGNy",
        "outputId": "92ecd8b8-f414-4ffa-93ea-dd5dcef63895"
      },
      "source": [
        "from bing_image_downloader import downloader\n",
        "downloader.download(\"super bikes\", limit=30,output_dir='images',\n",
        "                    adult_filter_off= True)"
      ],
      "execution_count": null,
      "outputs": [
        {
          "output_type": "stream",
          "text": [
            "[%] Downloading Images to /content/images/super bikes\n",
            "\n",
            "\n",
            "[!!]Indexing page: 1\n",
            "\n",
            "[%] Indexed 30 Images on Page 1.\n",
            "\n",
            "===============================================\n",
            "\n",
            "[%] Downloading Image #1 from https://i.pinimg.com/originals/eb/fa/10/ebfa10a5cef16751f9e76b20d0dc5f5b.jpg\n",
            "[%] File Downloaded !\n",
            "\n",
            "[%] Downloading Image #2 from https://i.pinimg.com/originals/7f/2e/c3/7f2ec3c9a5dadbd6432c0428f6b6a8a7.jpg\n",
            "[%] File Downloaded !\n",
            "\n",
            "[%] Downloading Image #3 from https://i.pinimg.com/originals/bb/8d/81/bb8d8143da4de1bb56ec0e9d98fc12d2.jpg\n",
            "[%] File Downloaded !\n",
            "\n",
            "[%] Downloading Image #4 from https://i.pinimg.com/originals/11/99/de/1199debfb5a028d9fa0165d4f687db0d.jpg\n",
            "[%] File Downloaded !\n",
            "\n",
            "[%] Downloading Image #5 from https://i.pinimg.com/originals/13/c3/f2/13c3f28933861c32b4d9023f8de1e442.jpg\n",
            "[%] File Downloaded !\n",
            "\n",
            "[%] Downloading Image #6 from https://i.pinimg.com/originals/0b/a3/9f/0ba39f14bf00055a94110520a39ce74b.jpg\n",
            "[%] File Downloaded !\n",
            "\n",
            "[%] Downloading Image #7 from https://i.pinimg.com/originals/4a/f9/39/4af9391bcc0580a9015c55cdf74e4cb1.jpg\n",
            "[%] File Downloaded !\n",
            "\n",
            "[%] Downloading Image #8 from https://i.pinimg.com/originals/50/ad/92/50ad92a604ba3c572e89dafb6e781b75.jpg\n",
            "[%] File Downloaded !\n",
            "\n",
            "[%] Downloading Image #9 from https://i.pinimg.com/originals/28/7c/c6/287cc6be040e9e8ce4b5be8bd20952e1.jpg\n",
            "[%] File Downloaded !\n",
            "\n",
            "[%] Downloading Image #10 from https://cdn.motor1.com/images/mgl/wvOZE/s1/lightning-ls-218-electric-super-bike-enters-production.jpg\n",
            "[Error]Invalid image, not saving https://cdn.motor1.com/images/mgl/wvOZE/s1/lightning-ls-218-electric-super-bike-enters-production.jpg\n",
            "\n",
            "[!] Issue getting: https://cdn.motor1.com/images/mgl/wvOZE/s1/lightning-ls-218-electric-super-bike-enters-production.jpg\n",
            "[!] Error:: Invalid image, not saving https://cdn.motor1.com/images/mgl/wvOZE/s1/lightning-ls-218-electric-super-bike-enters-production.jpg\n",
            "\n",
            "[%] Downloading Image #10 from https://i.pinimg.com/originals/14/3d/e3/143de332bb5c2eec45666e51ad4da90b.jpg\n",
            "[%] File Downloaded !\n",
            "\n",
            "[%] Downloading Image #11 from https://i.pinimg.com/736x/7e/02/cb/7e02cb52794da8174b7653a002480bac--freedom-people.jpg\n",
            "[%] File Downloaded !\n",
            "\n",
            "[%] Downloading Image #12 from https://www.thenewsminute.com/sites/default/files/motorcycle-racer-617745_1280.jpg\n",
            "[%] File Downloaded !\n",
            "\n",
            "[%] Downloading Image #13 from https://www.team-bhp.com/forum/attachments/superbikes-imports/1278655d1409027211-triumph-daytona-675r-true-everyday-superbike-009.jpg\n",
            "[%] File Downloaded !\n",
            "\n",
            "[%] Downloading Image #14 from https://i.pinimg.com/originals/b7/73/a1/b773a1d89a3ed460faad4ecba544d901.jpg\n",
            "[%] File Downloaded !\n",
            "\n",
            "[%] Downloading Image #15 from http://4.bp.blogspot.com/-CbD7dU7jfIQ/TvSHJtTfvkI/AAAAAAAAHGE/tjo6pyiXMrY/s1600/Picture%2B82.png\n",
            "[%] File Downloaded !\n",
            "\n",
            "[%] Downloading Image #16 from https://i.ytimg.com/vi/XTjw_TeL3V0/maxresdefault.jpg\n",
            "[%] File Downloaded !\n",
            "\n",
            "[%] Downloading Image #17 from http://pocketbikeupgrades.com/images/rs25-5.jpg\n",
            "[%] File Downloaded !\n",
            "\n",
            "[%] Downloading Image #18 from https://i.pinimg.com/736x/0d/11/c0/0d11c056249a16d9a04aa206318c8a82.jpg\n",
            "[%] File Downloaded !\n",
            "\n",
            "[%] Downloading Image #19 from https://i.pinimg.com/originals/80/97/ed/8097edf357d78a3380e43f02ec5a2c08.png\n",
            "[%] File Downloaded !\n",
            "\n",
            "[%] Downloading Image #20 from https://news.maxabout.com/wp-content/uploads/2016/11/2017-KTM-1290-Super-Duke-R-static-08.jpg\n",
            "[%] File Downloaded !\n",
            "\n",
            "[%] Downloading Image #21 from https://i.pinimg.com/originals/d2/f3/88/d2f388798c7d18f3a9d99bdded416778.jpg\n",
            "[%] File Downloaded !\n",
            "\n",
            "[%] Downloading Image #22 from https://i.pinimg.com/originals/09/48/f9/0948f9c82ae9a9f2910e8e53c98b2288.jpg\n",
            "[%] File Downloaded !\n",
            "\n",
            "[%] Downloading Image #23 from http://techglimpse.com/wp-content/uploads/2014/07/Hayabusa-e1404932059560.jpg\n",
            "[%] File Downloaded !\n",
            "\n",
            "[%] Downloading Image #24 from https://www.superbike.co.uk/wp-content/uploads/sites/2/2014/12/MM-21.png\n",
            "[%] File Downloaded !\n",
            "\n",
            "[%] Downloading Image #25 from https://images.internetstores.de/products/1211802/05/698488/eufab-super-bike-bike-carrier-attachment-4.jpg?forceSize=true&amp;forceAspectRatio=true&amp;useTrim=true&amp;size=613x613\n",
            "[%] File Downloaded !\n",
            "\n",
            "[%] Downloading Image #26 from https://i.pinimg.com/originals/f2/e1/e2/f2e1e29c092b9e0fce82e4ae74a2fe74.jpg\n",
            "[%] File Downloaded !\n",
            "\n",
            "[%] Downloading Image #27 from https://bmxmuseum.com/image/20120407_001_blowup.jpg\n",
            "[%] File Downloaded !\n",
            "\n",
            "[%] Downloading Image #28 from https://i.ytimg.com/vi/NGRtOuHCveA/maxresdefault.jpg\n",
            "[%] File Downloaded !\n",
            "\n",
            "[%] Downloading Image #29 from https://i.pinimg.com/originals/a1/e8/d6/a1e8d6392798d3cbb9f8ca3e7f36b196.jpg\n",
            "[%] File Downloaded !\n",
            "\n",
            "\n",
            "\n",
            "[!!]Indexing page: 2\n",
            "\n",
            "[%] Indexed 35 Images on Page 2.\n",
            "\n",
            "===============================================\n",
            "\n",
            "[%] Downloading Image #30 from https://i.pinimg.com/originals/eb/fa/10/ebfa10a5cef16751f9e76b20d0dc5f5b.jpg\n",
            "[%] File Downloaded !\n",
            "\n",
            "\n",
            "\n",
            "[%] Done. Downloaded 30 images.\n",
            "===============================================\n",
            "\n",
            "Please show your support here\n",
            "https://www.buymeacoffee.com/gurugaurav\n",
            "\n",
            "===============================================\n",
            "\n",
            "time: 19.5 s (started: 2021-06-19 07:07:42 +00:00)\n"
          ],
          "name": "stdout"
        }
      ]
    },
    {
      "cell_type": "code",
      "metadata": {
        "colab": {
          "base_uri": "https://localhost:8080/"
        },
        "id": "QYnzHDjFGWl4",
        "outputId": "35c8860b-de53-404d-8385-b4a5bff769ac"
      },
      "source": [
        "from bing_image_downloader import downloader\n",
        "downloader.download(\"super cars\", limit=30,output_dir='images',\n",
        "                    adult_filter_off= True)"
      ],
      "execution_count": null,
      "outputs": [
        {
          "output_type": "stream",
          "text": [
            "[%] Downloading Images to /content/images/super cars\n",
            "\n",
            "\n",
            "[!!]Indexing page: 1\n",
            "\n",
            "[%] Indexed 30 Images on Page 1.\n",
            "\n",
            "===============================================\n",
            "\n",
            "[%] Downloading Image #1 from https://i.ytimg.com/vi/dUmDpKZz20E/maxresdefault.jpg\n",
            "[!] Issue getting: https://i.ytimg.com/vi/dUmDpKZz20E/maxresdefault.jpg\n",
            "[!] Error:: HTTP Error 404: Not Found\n",
            "[%] Downloading Image #1 from https://i.pinimg.com/originals/71/6d/46/716d467ecb8e39c5b64a26f3bc8e944f.jpg\n",
            "[%] File Downloaded !\n",
            "\n",
            "[%] Downloading Image #2 from https://i.pinimg.com/736x/c1/78/98/c17898d6629feceb80a1efe9b81cb0a3.jpg\n",
            "[%] File Downloaded !\n",
            "\n",
            "[%] Downloading Image #3 from https://dscxx9mer61ho.cloudfront.net/wp-content/uploads/881.jpg\n",
            "[%] File Downloaded !\n",
            "\n",
            "[%] Downloading Image #4 from https://media4.speedcafe.com/wp-content/uploads/2018/04/17-McLaughlin-EV04-18-MH2_3988.jpg\n",
            "[%] File Downloaded !\n",
            "\n",
            "[%] Downloading Image #5 from https://smartcdn.prod.postmedia.digital/driving/images?url=https://smartcdn.prod.postmedia.digital/driving/wp-content/uploads/2017/05/0505-drv-andrewl.jpg&amp;w=960&amp;h=480\n",
            "[%] File Downloaded !\n",
            "\n",
            "[%] Downloading Image #6 from https://www.velocity2020.velocitymagazine.com.au/wp-content/uploads/2018/09/BryceFullwood.png\n",
            "[%] File Downloaded !\n",
            "\n",
            "[%] Downloading Image #7 from https://smartcdn.prod.postmedia.digital/driving/images?url=http://smartcdn.prod.postmedia.digital/driving/wp-content/uploads/2017/05/img_1926.jpg&amp;w=800&amp;h=520\n",
            "[%] File Downloaded !\n",
            "\n",
            "[%] Downloading Image #8 from http://ridestory.com/wp-content/uploads/2017/03/9691907364_6eb718ab40_b.jpg\n",
            "[%] File Downloaded !\n",
            "\n",
            "[%] Downloading Image #9 from https://dscxx9mer61ho.cloudfront.net/wp-content/uploads/DrW6oKVV4AEK2jD1-1890x1200.jpg\n",
            "[%] File Downloaded !\n",
            "\n",
            "[%] Downloading Image #10 from https://dscxx9mer61ho.cloudfront.net/wp-content/uploads/019-Davison-VASC-EV3-20-MH2_6841-900x600.jpg\n",
            "[%] File Downloaded !\n",
            "\n",
            "[%] Downloading Image #11 from https://dscxx9mer61ho.cloudfront.net/wp-content/uploads/54.jpg\n",
            "[%] File Downloaded !\n",
            "\n",
            "[%] Downloading Image #12 from https://smartcdn.prod.postmedia.digital/driving/images?url=http://smartcdn.prod.postmedia.digital/driving/wp-content/uploads/2017/05/0505-drv-bigskybox2.jpg&amp;w=800&amp;h=520\n",
            "[%] File Downloaded !\n",
            "\n",
            "[%] Downloading Image #13 from https://dscxx9mer61ho.cloudfront.net/wp-content/uploads/20141116-_E7R6733.jpg\n",
            "[%] File Downloaded !\n",
            "\n",
            "[%] Downloading Image #14 from https://i.pinimg.com/originals/c3/f3/86/c3f3867b8263f6299715f13f00d2ffe6.png\n",
            "[%] File Downloaded !\n",
            "\n",
            "[%] Downloading Image #15 from https://d2snyq93qb0udd.cloudfront.net/prod/27143_ROAD-VISORE-INTERNO-SUPERCAR-LE-AUTO-DEI-SOGNI-1910X620.jpg\n",
            "[%] File Downloaded !\n",
            "\n",
            "[%] Downloading Image #16 from https://qph.fs.quoracdn.net/main-qimg-d7763a2b41310f6326903fb2d6cf8b6e-c\n",
            "[%] File Downloaded !\n",
            "\n",
            "[%] Downloading Image #17 from https://images.s.perthnow.com.au/publication/0B579E997A9E8FEB4BC444D922394B66/c4d80b5b952fe5edb667200c875e3d20.jpeg?imwidth=668&amp;impolicy=pn_v3\n",
            "[!] Issue getting: https://images.s.perthnow.com.au/publication/0B579E997A9E8FEB4BC444D922394B66/c4d80b5b952fe5edb667200c875e3d20.jpeg?imwidth=668&amp;impolicy=pn_v3\n",
            "[!] Error:: <urlopen error [Errno -2] Name or service not known>\n",
            "[%] Downloading Image #17 from http://farm9.staticflickr.com/8012/7170866083_8504026441_o.jpg\n",
            "[%] File Downloaded !\n",
            "\n",
            "[%] Downloading Image #18 from https://cdn.newsapi.com.au/image/v1/47331a66b8c0108b271a28981e7a3cb0\n",
            "[%] File Downloaded !\n",
            "\n",
            "[%] Downloading Image #19 from https://cdn.thegentlemansjournal.com/wp-content/uploads/2018/08/1971-Lamborghini-Miura-P400-SV-by-Bertone_4-1-1024x430.jpg\n",
            "[%] File Downloaded !\n",
            "\n",
            "[%] Downloading Image #20 from http://imagesvc.timeincapp.com/v3/foundry/image/?q=60&amp;url=http:%2F%2Fd254andzyoxz3f.cloudfront.net%2Fr8_inline2.jpg\n",
            "[!] Issue getting: http://imagesvc.timeincapp.com/v3/foundry/image/?q=60&amp;url=http:%2F%2Fd254andzyoxz3f.cloudfront.net%2Fr8_inline2.jpg\n",
            "[!] Error:: HTTP Error 400: Bad Request\n",
            "[%] Downloading Image #20 from https://cdn.newsapi.com.au/image/v1/c72cefdaf4d151b87b94ec1640d63434?width=1024\n",
            "[%] File Downloaded !\n",
            "\n",
            "[%] Downloading Image #21 from https://www.confused.com/static/cmsmedia/custom-cms-widgets/external/supercars/resources/images/photos/makingof-image2.jpg\n",
            "[%] File Downloaded !\n",
            "\n",
            "[%] Downloading Image #22 from https://2p2bboli8d61fqhjiqzb8p1a-wpengine.netdna-ssl.com/wp-content/uploads/2017/05/Renntech-Mercedes-CLK-GTR-Lit-1.jpg\n",
            "[%] File Downloaded !\n",
            "\n",
            "[%] Downloading Image #23 from https://i.ytimg.com/vi/bsght-hHX6A/maxresdefault.jpg\n",
            "[%] File Downloaded !\n",
            "\n",
            "[%] Downloading Image #24 from https://ca-times.brightspotcdn.com/dims4/default/00e34f4/2147483647/strip/true/crop/1688x1125+156+0/resize/1680x1120!/quality/90/?url=https%3A%2F%2Fcalifornia-times-brightspot.s3.amazonaws.com%2Fc5%2F9a%2Fed95da96d113e674130abe81af02%2Fla-fi-hy-2017-acura-nsx-pictures-015\n",
            "[%] File Downloaded !\n",
            "\n",
            "[%] Downloading Image #25 from https://static.carthrottle.com/workspace/uploads/posts/2016/02/5c5c4960482660f8dc28bca10b2415f9.png\n",
            "[%] File Downloaded !\n",
            "\n",
            "[%] Downloading Image #26 from https://sxdrv.com/images/5959f33dc67b9.jpeg\n",
            "[%] File Downloaded !\n",
            "\n",
            "[%] Downloading Image #27 from https://cdn.thegentlemansjournal.com/wp-content/uploads/2018/08/1971-Lamborghini-Miura-P400-SV-by-Bertone_6-471x549-c-center.jpg\n",
            "[%] File Downloaded !\n",
            "\n",
            "\n",
            "\n",
            "[!!]Indexing page: 2\n",
            "\n",
            "[%] Indexed 35 Images on Page 2.\n",
            "\n",
            "===============================================\n",
            "\n",
            "[%] Downloading Image #28 from https://i.ytimg.com/vi/dUmDpKZz20E/maxresdefault.jpg\n",
            "[!] Issue getting: https://i.ytimg.com/vi/dUmDpKZz20E/maxresdefault.jpg\n",
            "[!] Error:: HTTP Error 404: Not Found\n",
            "[%] Downloading Image #28 from https://i.pinimg.com/originals/71/6d/46/716d467ecb8e39c5b64a26f3bc8e944f.jpg\n",
            "[%] File Downloaded !\n",
            "\n",
            "[%] Downloading Image #29 from https://i.pinimg.com/736x/c1/78/98/c17898d6629feceb80a1efe9b81cb0a3.jpg\n",
            "[%] File Downloaded !\n",
            "\n",
            "[%] Downloading Image #30 from https://dscxx9mer61ho.cloudfront.net/wp-content/uploads/881.jpg\n",
            "[%] File Downloaded !\n",
            "\n",
            "\n",
            "\n",
            "[%] Done. Downloaded 30 images.\n",
            "===============================================\n",
            "\n",
            "Please show your support here\n",
            "https://www.buymeacoffee.com/gurugaurav\n",
            "\n",
            "===============================================\n",
            "\n",
            "time: 30.1 s (started: 2021-06-19 07:09:15 +00:00)\n"
          ],
          "name": "stdout"
        }
      ]
    },
    {
      "cell_type": "code",
      "metadata": {
        "colab": {
          "base_uri": "https://localhost:8080/"
        },
        "id": "QE3CBBbLGtW6",
        "outputId": "b80815a4-a777-4307-dba6-3aaa4484ea2a"
      },
      "source": [
        "from bing_image_downloader import downloader\n",
        "downloader.download(\"red flower\", limit=30,output_dir='images',\n",
        "                    adult_filter_off= True)"
      ],
      "execution_count": null,
      "outputs": [
        {
          "output_type": "stream",
          "text": [
            "[%] Downloading Images to /content/images/red flower\n",
            "\n",
            "\n",
            "[!!]Indexing page: 1\n",
            "\n",
            "[%] Indexed 30 Images on Page 1.\n",
            "\n",
            "===============================================\n",
            "\n",
            "[%] Downloading Image #1 from https://i.pinimg.com/originals/1f/50/a1/1f50a1491d8e8de339ff781c3fb3740a.jpg\n",
            "[%] File Downloaded !\n",
            "\n",
            "[%] Downloading Image #2 from https://i.pinimg.com/originals/77/66/f8/7766f8795a5b00bfb0287dbec86a486e.jpg\n",
            "[%] File Downloaded !\n",
            "\n",
            "[%] Downloading Image #3 from https://i.pinimg.com/736x/15/07/3f/15073f7804dac9c5615fef5b2daa9887.jpg\n",
            "[%] File Downloaded !\n",
            "\n",
            "[%] Downloading Image #4 from https://i.pinimg.com/736x/f1/58/37/f158378a62d76a4646891a73a0c522d4--front-flower-beds-red-geraniums.jpg\n",
            "[%] File Downloaded !\n",
            "\n",
            "[%] Downloading Image #5 from http://plants.gardensupplyco.com/Content/Images/Photos/F831-21.jpg\n",
            "[%] File Downloaded !\n",
            "\n",
            "[%] Downloading Image #6 from https://i.pinimg.com/originals/8f/31/ff/8f31ff4b8fe47b64517c1f1c761b65a0.jpg\n",
            "[%] File Downloaded !\n",
            "\n",
            "[%] Downloading Image #7 from https://i.pinimg.com/originals/36/50/20/3650205c27be8e5fbcec1374e5ac5660.jpg\n",
            "[%] File Downloaded !\n",
            "\n",
            "[%] Downloading Image #8 from https://ae01.alicdn.com/kf/HTB1RXmiXcTxK1Rjy0Fgq6yovpXau/2-Bulb-True-Red-Dahlia-Bulbs-Flower-Bonsai-Flower-Bulb-Symbolizes-Courage-And-Lucky-Home-Garden.jpg\n",
            "[%] File Downloaded !\n",
            "\n",
            "[%] Downloading Image #9 from https://i.pinimg.com/736x/82/21/c1/8221c1d43d5c208bbdd05bd361dcc735--electric-light-fiery-red.jpg\n",
            "[%] File Downloaded !\n",
            "\n",
            "[%] Downloading Image #10 from https://assets.flowerstore.ph/uploads/products/photos/ZH2Ynh28yrkONX09xVBJpJbSwzOmusmXFxoZYenN.jpeg\n",
            "[%] File Downloaded !\n",
            "\n",
            "[%] Downloading Image #11 from https://i.pinimg.com/originals/86/d8/86/86d886e3524828ae438e43733180978a.gif\n",
            "[%] File Downloaded !\n",
            "\n",
            "[%] Downloading Image #12 from https://gardeningsolutions.ifas.ufl.edu/images/plants/foliage/coleus_frilly_red.jpg\n",
            "[Error]Invalid image, not saving https://gardeningsolutions.ifas.ufl.edu/images/plants/foliage/coleus_frilly_red.jpg\n",
            "\n",
            "[!] Issue getting: https://gardeningsolutions.ifas.ufl.edu/images/plants/foliage/coleus_frilly_red.jpg\n",
            "[!] Error:: Invalid image, not saving https://gardeningsolutions.ifas.ufl.edu/images/plants/foliage/coleus_frilly_red.jpg\n",
            "\n",
            "[%] Downloading Image #12 from https://i.pinimg.com/originals/4e/ce/d8/4eced821aadde4005b36f26b840e972d.jpg\n",
            "[%] File Downloaded !\n",
            "\n",
            "[%] Downloading Image #13 from https://i.pinimg.com/originals/43/34/10/433410ed03c89d11423767fc6475293b.jpg\n",
            "[%] File Downloaded !\n",
            "\n",
            "[%] Downloading Image #14 from https://i.pinimg.com/originals/34/b0/11/34b01112cf7d59e59ec5cf59c5803704.jpg\n",
            "[%] File Downloaded !\n",
            "\n",
            "[%] Downloading Image #15 from https://images.homedepot-static.com/productImages/e6793679-a3a4-4e8c-8689-46f3d91fbee1/svn/proven-winners-annuals-belprw0027520-64_1000.jpg\n",
            "[%] File Downloaded !\n",
            "\n",
            "[%] Downloading Image #16 from https://i.pinimg.com/originals/64/c2/af/64c2af216d5faee7463464c99d015e77.jpg\n",
            "[%] File Downloaded !\n",
            "\n",
            "[%] Downloading Image #17 from https://ae01.alicdn.com/kf/HTB1V4HhIVXXXXb3XFXXq6xXFXXXM/50-pcs-100-True-Red-Amaryllis-Seeds-Balcony-Bonsai-Hippeastrum-Flower-Seeds-DIY-Home-Garden.jpg\n",
            "[%] File Downloaded !\n",
            "\n",
            "[%] Downloading Image #18 from https://i.pinimg.com/originals/ff/c0/2c/ffc02cab92de311307af1224ea787c3c.jpg\n",
            "[%] File Downloaded !\n",
            "\n",
            "[%] Downloading Image #19 from https://ae01.alicdn.com/kf/HTB13s3BXI_vK1Rjy0Foq6xIxVXar/True-Red-Dahlia-Bulbs-Flower-Bonsai-Bonsai-Flower-Bulbs-Symbolizes-Courage-And-Lucky-Home-Garden-Plant.jpg\n",
            "[%] File Downloaded !\n",
            "\n",
            "[%] Downloading Image #20 from https://indianflowercakengifts.com/product-images/1489942624-Liliy and roses in vase-500x500.jpg\n",
            "[!] Issue getting: https://indianflowercakengifts.com/product-images/1489942624-Liliy and roses in vase-500x500.jpg\n",
            "[!] Error:: URL can't contain control characters. '/product-images/1489942624-Liliy and roses in vase-500x500.jpg' (found at least ' ')\n",
            "[%] Downloading Image #20 from https://thumbs.dreamstime.com/z/red-flower-opens-up-brief-rain-shower-closeup-red-flower-shows-its-true-beauty-147889026.jpg\n",
            "[%] File Downloaded !\n",
            "\n",
            "[%] Downloading Image #21 from https://i.pinimg.com/originals/e9/cf/f3/e9cff3e56332de8fe69d02ec508d27cf.jpg\n",
            "[%] File Downloaded !\n",
            "\n",
            "[%] Downloading Image #22 from http://sierraflowerfinder.blob.core.windows.net/medias/FlowerPictures/5344/august 9 026.JPG\n",
            "[!] Issue getting: http://sierraflowerfinder.blob.core.windows.net/medias/FlowerPictures/5344/august 9 026.JPG\n",
            "[!] Error:: URL can't contain control characters. '/medias/FlowerPictures/5344/august 9 026.JPG' (found at least ' ')\n",
            "[%] Downloading Image #22 from https://www.williamsflowers.com/assets/inc/timthumb.php?src=https://f7e8d318f31623d72821-e86e8b8e4ccf82238b56398cba8fe354.ssl.cf2.rackcdn.com/2-Dozen-Mixed-Roses.jpg&amp;w=800&amp;h=800&amp;zc=2\n",
            "[%] File Downloaded !\n",
            "\n",
            "[%] Downloading Image #23 from https://i.pinimg.com/originals/dd/59/11/dd591117a1ada50eeed00414223df9a4.jpg\n",
            "[%] File Downloaded !\n",
            "\n",
            "[%] Downloading Image #24 from https://i.pinimg.com/originals/0a/98/0c/0a980c3587dd0780332f6f81e9803ff3.jpg\n",
            "[%] File Downloaded !\n",
            "\n",
            "[%] Downloading Image #25 from https://i.pinimg.com/originals/09/ed/6c/09ed6c6eeb149dc260157edcc56ea1f0.jpg\n",
            "[%] File Downloaded !\n",
            "\n",
            "[%] Downloading Image #26 from https://res.cloudinary.com/bloomnation/c_pad,d_vendor:global:catalog:product:image.png,f_auto,fl_preserve_transparency,q_auto/v1582065462/vendor/2961/catalog/product/2/0/20150124123713_file_54c391f9051a6.jpg\n",
            "[%] File Downloaded !\n",
            "\n",
            "[%] Downloading Image #27 from https://i.pinimg.com/736x/dd/0c/03/dd0c03ccc86ee2cea107aafc0ef71fd4.jpg\n",
            "[%] File Downloaded !\n",
            "\n",
            "\n",
            "\n",
            "[!!]Indexing page: 2\n",
            "\n",
            "[%] Indexed 35 Images on Page 2.\n",
            "\n",
            "===============================================\n",
            "\n",
            "[%] Downloading Image #28 from https://i.pinimg.com/originals/1f/50/a1/1f50a1491d8e8de339ff781c3fb3740a.jpg\n",
            "[%] File Downloaded !\n",
            "\n",
            "[%] Downloading Image #29 from https://i.pinimg.com/originals/77/66/f8/7766f8795a5b00bfb0287dbec86a486e.jpg\n",
            "[%] File Downloaded !\n",
            "\n",
            "[%] Downloading Image #30 from https://i.pinimg.com/736x/15/07/3f/15073f7804dac9c5615fef5b2daa9887.jpg\n",
            "[%] File Downloaded !\n",
            "\n",
            "\n",
            "\n",
            "[%] Done. Downloaded 30 images.\n",
            "===============================================\n",
            "\n",
            "Please show your support here\n",
            "https://www.buymeacoffee.com/gurugaurav\n",
            "\n",
            "===============================================\n",
            "\n",
            "time: 15.2 s (started: 2021-06-19 07:10:17 +00:00)\n"
          ],
          "name": "stdout"
        }
      ]
    },
    {
      "cell_type": "code",
      "metadata": {
        "colab": {
          "base_uri": "https://localhost:8080/"
        },
        "id": "cGvrcgAfHIEc",
        "outputId": "298af0e6-a131-4a8b-bf37-5ee99824fed9"
      },
      "source": [
        "import os\n",
        "import matplotlib.pyplot as plt\n",
        "import numpy as np\n",
        "from skimage.io import imread\n",
        "from skimage.transform import resize\n",
        "\n",
        "target= []\n",
        "images= []\n",
        "flat_data = []\n",
        "\n",
        "DATADIR = '/content/images'\n",
        "CATEGORIES = ['super bikes','super cars','red flower']\n",
        "\n",
        "for category in CATEGORIES:\n",
        "    class_num= CATEGORIES.index(category)\n",
        "    path = os.path.join(DATADIR,category)\n",
        "    for img in os.listdir(path):\n",
        "       img_array = imread(os.path.join(path,img))\n",
        "       #print(img_array.shape)\n",
        "       #plt.imshow(img_array)\n",
        "       img_resized= resize(img_array,(150,150,3))\n",
        "       flat_data.append(img_resized.flatten())\n",
        "       images.append(img_resized)\n",
        "       target.append(class_num)\n",
        "flat_data = np.array(flat_data)\n",
        "target = np.array(target)\n",
        "images=np.array(images)\n"
      ],
      "execution_count": null,
      "outputs": [
        {
          "output_type": "stream",
          "text": [
            "time: 47.3 s (started: 2021-06-19 07:12:52 +00:00)\n"
          ],
          "name": "stdout"
        }
      ]
    },
    {
      "cell_type": "code",
      "metadata": {
        "colab": {
          "base_uri": "https://localhost:8080/"
        },
        "id": "XueOtBd3Hlfj",
        "outputId": "66310f12-1ca4-46cc-a775-190e81bbf798"
      },
      "source": [
        "flat_data"
      ],
      "execution_count": null,
      "outputs": [
        {
          "output_type": "execute_result",
          "data": {
            "text/plain": [
              "array([[0.37647059, 0.38578431, 0.48039216, ..., 0.57745098, 0.63235294,\n",
              "        0.67941176],\n",
              "       [0.05490196, 0.04705882, 0.05098039, ..., 0.40235294, 0.40235294,\n",
              "        0.39490196],\n",
              "       [0.69803922, 0.71764706, 0.75686275, ..., 0.4745098 , 0.58431373,\n",
              "        0.24705882],\n",
              "       ...,\n",
              "       [0.07058824, 0.05882353, 0.        , ..., 0.04313725, 0.09019608,\n",
              "        0.00784314],\n",
              "       [0.94153394, 0.24761638, 0.10515033, ..., 0.68344244, 0.51575564,\n",
              "        0.24159477],\n",
              "       [0.99607843, 0.99607843, 0.99607843, ..., 0.99607843, 0.99607843,\n",
              "        0.99607843]])"
            ]
          },
          "metadata": {
            "tags": []
          },
          "execution_count": 8
        },
        {
          "output_type": "stream",
          "text": [
            "time: 8.11 ms (started: 2021-06-19 07:13:53 +00:00)\n"
          ],
          "name": "stdout"
        }
      ]
    },
    {
      "cell_type": "code",
      "metadata": {
        "colab": {
          "base_uri": "https://localhost:8080/"
        },
        "id": "Nk35V_XiHrGU",
        "outputId": "7f3520a8-54c6-49e1-a9da-8d17dda233f8"
      },
      "source": [
        "flat_data[0]"
      ],
      "execution_count": null,
      "outputs": [
        {
          "output_type": "execute_result",
          "data": {
            "text/plain": [
              "array([0.37647059, 0.38578431, 0.48039216, ..., 0.57745098, 0.63235294,\n",
              "       0.67941176])"
            ]
          },
          "metadata": {
            "tags": []
          },
          "execution_count": 9
        },
        {
          "output_type": "stream",
          "text": [
            "time: 4.38 ms (started: 2021-06-19 07:14:15 +00:00)\n"
          ],
          "name": "stdout"
        }
      ]
    },
    {
      "cell_type": "code",
      "metadata": {
        "colab": {
          "base_uri": "https://localhost:8080/"
        },
        "id": "d0v3PwYnHwqE",
        "outputId": "9d7d55ca-5568-4d11-c777-86d79d02a9a3"
      },
      "source": [
        "target"
      ],
      "execution_count": null,
      "outputs": [
        {
          "output_type": "execute_result",
          "data": {
            "text/plain": [
              "array([0, 0, 0, 0, 0, 0, 0, 0, 0, 0, 0, 0, 0, 0, 0, 0, 0, 0, 0, 0, 0, 0,\n",
              "       0, 0, 0, 0, 0, 0, 0, 0, 1, 1, 1, 1, 1, 1, 1, 1, 1, 1, 1, 1, 1, 1,\n",
              "       1, 1, 1, 1, 1, 1, 1, 1, 1, 1, 1, 1, 1, 1, 1, 1, 2, 2, 2, 2, 2, 2,\n",
              "       2, 2, 2, 2, 2, 2, 2, 2, 2, 2, 2, 2, 2, 2, 2, 2, 2, 2, 2, 2, 2, 2,\n",
              "       2, 2])"
            ]
          },
          "metadata": {
            "tags": []
          },
          "execution_count": 10
        },
        {
          "output_type": "stream",
          "text": [
            "time: 7.06 ms (started: 2021-06-19 07:14:41 +00:00)\n"
          ],
          "name": "stdout"
        }
      ]
    },
    {
      "cell_type": "code",
      "metadata": {
        "colab": {
          "base_uri": "https://localhost:8080/",
          "height": 298
        },
        "id": "lT-LDoxrHzSZ",
        "outputId": "c5544661-b5eb-4e1f-d83e-0e35a94d6f68"
      },
      "source": [
        "unique,count = np.unique(target,return_counts=True)\n",
        "plt.bar(CATEGORIES , count)"
      ],
      "execution_count": null,
      "outputs": [
        {
          "output_type": "execute_result",
          "data": {
            "text/plain": [
              "<BarContainer object of 3 artists>"
            ]
          },
          "metadata": {
            "tags": []
          },
          "execution_count": 11
        },
        {
          "output_type": "display_data",
          "data": {
            "image/png": "[encoded data removed]",
            "text/plain": [
              "<Figure size 432x288 with 1 Axes>"
            ]
          },
          "metadata": {
            "tags": [],
            "needs_background": "light"
          }
        },
        {
          "output_type": "stream",
          "text": [
            "time: 185 ms (started: 2021-06-19 07:15:02 +00:00)\n"
          ],
          "name": "stdout"
        }
      ]
    },
    {
      "cell_type": "code",
      "metadata": {
        "colab": {
          "base_uri": "https://localhost:8080/"
        },
        "id": "MPBdtMihIF-A",
        "outputId": "d0c5a249-8a2b-4d89-9399-fb1d43a43713"
      },
      "source": [
        "#split data into training and testing \n",
        "from sklearn.model_selection import train_test_split\n",
        "x_train,x_test,y_train,y_test = train_test_split(flat_data, target,\n",
        "                                                 test_size=0.3,random_state=109)"
      ],
      "execution_count": null,
      "outputs": [
        {
          "output_type": "stream",
          "text": [
            "time: 225 ms (started: 2021-06-19 07:16:06 +00:00)\n"
          ],
          "name": "stdout"
        }
      ]
    },
    {
      "cell_type": "code",
      "metadata": {
        "colab": {
          "base_uri": "https://localhost:8080/"
        },
        "id": "XU2bgS5KII08",
        "outputId": "ecf30562-d466-44c2-9f52-723aa9fffe75"
      },
      "source": [
        "from sklearn.model_selection import GridSearchCV\n",
        "from sklearn import svm\n",
        "param_grid = [\n",
        "              { 'C': [1,10,100,1000], 'kernel': ['linear']},\n",
        "              { 'C': [1,10,100,1000], 'gamma':[0.001,0.0001], 'kernel': ['rbf']},\n",
        "             ]\n",
        "svc = svm.SVC(probability= True)\n",
        "clf = GridSearchCV(svc,param_grid)\n",
        "clf.fit(x_train,y_train)"
      ],
      "execution_count": null,
      "outputs": [
        {
          "output_type": "execute_result",
          "data": {
            "text/plain": [
              "GridSearchCV(cv=None, error_score=nan,\n",
              "             estimator=SVC(C=1.0, break_ties=False, cache_size=200,\n",
              "                           class_weight=None, coef0=0.0,\n",
              "                           decision_function_shape='ovr', degree=3,\n",
              "                           gamma='scale', kernel='rbf', max_iter=-1,\n",
              "                           probability=True, random_state=None, shrinking=True,\n",
              "                           tol=0.001, verbose=False),\n",
              "             iid='deprecated', n_jobs=None,\n",
              "             param_grid=[{'C': [1, 10, 100, 1000], 'kernel': ['linear']},\n",
              "                         {'C': [1, 10, 100, 1000], 'gamma': [0.001, 0.0001],\n",
              "                          'kernel': ['rbf']}],\n",
              "             pre_dispatch='2*n_jobs', refit=True, return_train_score=False,\n",
              "             scoring=None, verbose=0)"
            ]
          },
          "metadata": {
            "tags": []
          },
          "execution_count": 13
        },
        {
          "output_type": "stream",
          "text": [
            "time: 2min 6s (started: 2021-06-19 07:16:59 +00:00)\n"
          ],
          "name": "stdout"
        }
      ]
    },
    {
      "cell_type": "code",
      "metadata": {
        "colab": {
          "base_uri": "https://localhost:8080/"
        },
        "id": "xEviC4nPI4Ql",
        "outputId": "3dc18455-0b86-405d-b750-a2a7fda37cc8"
      },
      "source": [
        "y_pred = clf.predict(x_test)\n",
        "y_pred"
      ],
      "execution_count": null,
      "outputs": [
        {
          "output_type": "execute_result",
          "data": {
            "text/plain": [
              "array([1, 0, 1, 2, 2, 1, 0, 2, 1, 1, 1, 1, 0, 2, 0, 1, 2, 1, 1, 0, 0, 0,\n",
              "       2, 0, 0, 0, 1])"
            ]
          },
          "metadata": {
            "tags": []
          },
          "execution_count": 14
        },
        {
          "output_type": "stream",
          "text": [
            "time: 209 ms (started: 2021-06-19 07:19:32 +00:00)\n"
          ],
          "name": "stdout"
        }
      ]
    },
    {
      "cell_type": "code",
      "metadata": {
        "colab": {
          "base_uri": "https://localhost:8080/"
        },
        "id": "rAIaeab6I98H",
        "outputId": "c761b038-015b-49a6-eec7-9bc44c3a1fd8"
      },
      "source": [
        "y_test"
      ],
      "execution_count": null,
      "outputs": [
        {
          "output_type": "execute_result",
          "data": {
            "text/plain": [
              "array([1, 0, 1, 2, 2, 1, 0, 1, 1, 0, 1, 0, 1, 2, 2, 1, 2, 1, 0, 1, 2, 2,\n",
              "       2, 0, 0, 0, 1])"
            ]
          },
          "metadata": {
            "tags": []
          },
          "execution_count": 15
        },
        {
          "output_type": "stream",
          "text": [
            "time: 4.14 ms (started: 2021-06-19 07:19:55 +00:00)\n"
          ],
          "name": "stdout"
        }
      ]
    },
    {
      "cell_type": "code",
      "metadata": {
        "colab": {
          "base_uri": "https://localhost:8080/"
        },
        "id": "S_sqZG0nJCgN",
        "outputId": "1e0d4eaa-0d40-4b36-c2de-5065b529d408"
      },
      "source": [
        "from sklearn.metrics import accuracy_score , confusion_matrix"
      ],
      "execution_count": null,
      "outputs": [
        {
          "output_type": "stream",
          "text": [
            "time: 1.33 ms (started: 2021-06-19 07:20:13 +00:00)\n"
          ],
          "name": "stdout"
        }
      ]
    },
    {
      "cell_type": "code",
      "metadata": {
        "colab": {
          "base_uri": "https://localhost:8080/"
        },
        "id": "7n4Qet62JHEF",
        "outputId": "c491cd8b-72d9-49c3-bc04-88f4e692a16c"
      },
      "source": [
        "accuracy_score(y_pred,y_test)"
      ],
      "execution_count": null,
      "outputs": [
        {
          "output_type": "execute_result",
          "data": {
            "text/plain": [
              "0.6666666666666666"
            ]
          },
          "metadata": {
            "tags": []
          },
          "execution_count": 17
        },
        {
          "output_type": "stream",
          "text": [
            "time: 5.16 ms (started: 2021-06-19 07:20:32 +00:00)\n"
          ],
          "name": "stdout"
        }
      ]
    },
    {
      "cell_type": "code",
      "metadata": {
        "colab": {
          "base_uri": "https://localhost:8080/"
        },
        "id": "i5GA922RJLaf",
        "outputId": "df0f1a80-f812-48ed-e881-4e86bc86950f"
      },
      "source": [
        "confusion_matrix(y_pred, y_test)"
      ],
      "execution_count": null,
      "outputs": [
        {
          "output_type": "execute_result",
          "data": {
            "text/plain": [
              "array([[5, 2, 3],\n",
              "       [3, 8, 0],\n",
              "       [0, 1, 5]])"
            ]
          },
          "metadata": {
            "tags": []
          },
          "execution_count": 18
        },
        {
          "output_type": "stream",
          "text": [
            "time: 9.2 ms (started: 2021-06-19 07:20:50 +00:00)\n"
          ],
          "name": "stdout"
        }
      ]
    },
    {
      "cell_type": "code",
      "metadata": {
        "colab": {
          "base_uri": "https://localhost:8080/"
        },
        "id": "GmoSfvayJS2B",
        "outputId": "fe3ac89e-54d4-4037-a117-a202a7c4c16d"
      },
      "source": [
        "#save the mode using pickle library\n",
        "import pickle\n",
        "pickle.dump(clf,open('img_model.p','wb'))"
      ],
      "execution_count": null,
      "outputs": [
        {
          "output_type": "stream",
          "text": [
            "time: 43.5 ms (started: 2021-06-19 07:21:32 +00:00)\n"
          ],
          "name": "stdout"
        }
      ]
    },
    {
      "cell_type": "code",
      "metadata": {
        "colab": {
          "base_uri": "https://localhost:8080/"
        },
        "id": "aTmAEADXJZ4T",
        "outputId": "879fe286-c957-470a-c2e6-cea5bab8e4ff"
      },
      "source": [
        "model = pickle.load(open('img_model.p','rb'))"
      ],
      "execution_count": null,
      "outputs": [
        {
          "output_type": "stream",
          "text": [
            "time: 23.2 ms (started: 2021-06-19 07:21:49 +00:00)\n"
          ],
          "name": "stdout"
        }
      ]
    },
    {
      "cell_type": "code",
      "metadata": {
        "colab": {
          "base_uri": "https://localhost:8080/",
          "height": 336
        },
        "id": "pj2VcK-UJfGV",
        "outputId": "fb35bf23-ea69-4d2d-d319-104f323555ea"
      },
      "source": [
        "flat_data = []\n",
        "url = input('enter your URL')\n",
        "img = imread(url)\n",
        "img_resized= resize(img,(150,150,3))\n",
        "flat_data.append(img_resized.flatten())\n",
        "flat_data = np.array(flat_data)\n",
        "print(img.shape)\n",
        "plt.imshow(img_resized)\n",
        "y_out = model.predict(flat_data)\n",
        "y_out = CATEGORIES[y_out[0]]\n",
        "print(f'  PREDICTED OUTPUT:{y_out}')"
      ],
      "execution_count": null,
      "outputs": [
        {
          "output_type": "stream",
          "text": [
            "enter your URLhttps://encrypted-tbn0.gstatic.com/images?q=tbn:ANd9GcSLQkjdNsFkXvUwJhhOsJXEkte3R8AW8khX7Q&usqp=CAU\n",
            "(182, 277, 3)\n",
            "  PREDICTED OUTPUT:super cars\n"
          ],
          "name": "stdout"
        },
        {
          "output_type": "display_data",
          "data": {
            "image/png": "[encoded data removed]",
            "text/plain": [
              "<Figure size 432x288 with 1 Axes>"
            ]
          },
          "metadata": {
            "tags": [],
            "needs_background": "light"
          }
        },
        {
          "output_type": "stream",
          "text": [
            "time: 3.53 s (started: 2021-06-19 08:02:45 +00:00)\n"
          ],
          "name": "stdout"
        }
      ]
    }
  ]
}